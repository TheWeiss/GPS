{
 "cells": [
  {
   "cell_type": "markdown",
   "id": "ab5014e1-bcf2-44d6-acbf-202e830a12a0",
   "metadata": {},
   "source": [
    "# Imports"
   ]
  },
  {
   "cell_type": "code",
   "execution_count": 1,
   "id": "2422ade7-eeb2-4dab-a6c0-0246680d17a7",
   "metadata": {},
   "outputs": [],
   "source": [
    "import pandas as pd\n",
    "import numpy as np\n",
    "import catboost as cb\n",
    "import xgboost as xgb\n",
    "import matplotlib\n",
    "import matplotlib.pyplot as plt\n",
    "from sklearn.model_selection import KFold, train_test_split, GridSearchCV\n",
    "from sklearn.metrics import confusion_matrix, mean_squared_error, ConfusionMatrixDisplay\n",
    "from sklearn.model_selection import ParameterSampler, RandomizedSearchCV\n",
    "from scipy.stats.distributions import expon\n",
    "from scipy.stats import uniform\n",
    "from sklearn.metrics import ConfusionMatrixDisplay\n",
    "import os\n",
    "import glob\n",
    "import re\n",
    "import h2o\n",
    "from h2o.automl import H2OAutoML\n",
    "\n",
    "from tqdm import tqdm\n",
    "import pickle\n",
    "from autoxgb import AutoXGB\n",
    "from autoxgb.cli.predict import PredictAutoXGBCommand\n",
    "\n",
    "import os\n",
    "import sys\n",
    "module_path = os.path.abspath(os.path.join('..'))\n",
    "if module_path not in sys.path:\n",
    "    sys.path.append(module_path)\n",
    "%reload_ext autoreload\n",
    "%autoreload 2\n",
    "import gps_lib.parse_raw_utils as p_utils\n",
    "import gps_lib.exp_utils as e_utils\n",
    "import gps_lib.data_sets as ds\n",
    "import gps_lib.experiment as exp\n",
    "\n",
    "\n",
    "%matplotlib inline\n",
    "rng = np.random.RandomState(42)"
   ]
  },
  {
   "cell_type": "markdown",
   "id": "2e3a5974-1d9e-4834-9a58-9ab50ba8086e",
   "metadata": {},
   "source": [
    "# Load Data Classes"
   ]
  },
  {
   "cell_type": "code",
   "execution_count": 2,
   "id": "7b8baccf-5268-4391-992c-c68d62ece6ce",
   "metadata": {},
   "outputs": [],
   "source": [
    "species_dict_path= \"../resources/species_dict.json\"\n",
    "resources = {\n",
    "    'PATAKI': {\n",
    "        'geno': '../resources/28.12.21/Pataki_paper/PATAKI_final_for_Amit.2021.12.28/Pataki.results.for.Amit',\n",
    "        'pheno': '../resources/26.12.21/Pataki_paper/AST_2548_all', \n",
    "        'run2bio': '../resources/28.12.21/Pataki_paper/PATAKI_final_for_Amit.2021.12.28/PATAKI_full_SAM_and_SRR_list.xlsx',\n",
    "        'filter_list': '../resources/28.12.21/Pataki_paper/PATAKI_final_for_Amit.2021.12.28/PATAKI_filtered_SRR_list_for_Amit.xlsx',\n",
    "    },\n",
    "    'VAMP': {\n",
    "        'geno': '../resources/28.12.21/VAMPr_3400samples/VAMP_final_for_Amit.2021.12.28/VAMPr.results.for.Amit',\n",
    "        'pheno': '../resources/28.12.21/VAMPr_3400samples/VAMP_final_for_Amit.2021.12.28/VAMP_full_AST_data',\n",
    "        'run2bio': '../resources/28.12.21//VAMPr_3400samples/VAMP_final_for_Amit.2021.12.28/VAMP_full_SAM_and_SRR_list.csv',\n",
    "        'filter_list': '../resources/28.12.21//VAMPr_3400samples/VAMP_final_for_Amit.2021.12.28/VAMP_filtered_SRR_list.20211228.xlsx',\n",
    "    },\n",
    "    'PA': {\n",
    "        'geno': \"../resources/data/PA.dataset.400.for.Amit/\",\n",
    "        'pheno': '../resources/data/Pseudomonas_paper_AST.xlsx', \n",
    "        'run2bio': '../resources/data/PA.dataset.400.RunInfo.xlsx',\n",
    "        'filter_list': '',\n",
    "    },\n",
    "    'PATRIC': {\n",
    "        'geno': '/sise/liorrk-group/AmitdanwMaranoMotroy/all.QC.passed.spades.20220313/',\n",
    "        'pheno': '../resources/data/PATRIC_AMR_ESKAPE_etal_with_numericalAST_only.xlsx', \n",
    "        'run2bio': '../resources/data/PATRIC_genome_final_db.20220223.xlsx',\n",
    "        'filter_list': '',\n",
    "    },\n",
    "}"
   ]
  },
  {
   "cell_type": "code",
   "execution_count": 3,
   "id": "dbdbd25c-5d5d-4bd6-aaa3-c5359f31f9a0",
   "metadata": {},
   "outputs": [
    {
     "name": "stderr",
     "output_type": "stream",
     "text": [
      "/sise/home/amitdanw/GPS/gps_lib/data_sets.py:46: DtypeWarning: Columns (19) have mixed types.Specify dtype option on import or set low_memory=False.\n",
      "  self._load_pheno()\n"
     ]
    }
   ],
   "source": [
    "data = ds.CollectionDataSet(all_path_dict=resources)"
   ]
  },
  {
   "cell_type": "markdown",
   "id": "ee9c2aac-cc04-415f-854a-68b5e4b7a9e2",
   "metadata": {},
   "source": [
    "# Run models"
   ]
  },
  {
   "cell_type": "markdown",
   "id": "5692fe77-121f-4519-8632-645d14d05688",
   "metadata": {},
   "source": [
    "## AXGB"
   ]
  },
  {
   "cell_type": "code",
   "execution_count": 19,
   "id": "cdf99971-325e-4b4a-84c3-02914f2cbcfa",
   "metadata": {},
   "outputs": [],
   "source": [
    "model_param = {\n",
    "    'model': 'autoxgb',\n",
    "    'train_time': 1,\n",
    "    'max_models': 100,\n",
    "}"
   ]
  },
  {
   "cell_type": "code",
   "execution_count": 11,
   "id": "cdf153b2-1c98-49c6-b1d2-c3746b84a02c",
   "metadata": {},
   "outputs": [
    {
     "data": {
      "text/plain": [
       "['Pseudomonas aeruginosa', 0, 1, 2, 3, 4]"
      ]
     },
     "execution_count": 11,
     "metadata": {},
     "output_type": "execute_result"
    }
   ],
   "source": [
    "['Pseudomonas aeruginosa']+list(np.arange(5))"
   ]
  },
  {
   "cell_type": "code",
   "execution_count": null,
   "id": "58f1ef7f-1576-434f-99e8-6f185f9adca1",
   "metadata": {},
   "outputs": [
    {
     "name": "stderr",
     "output_type": "stream",
     "text": [
      "2022-06-10 21:43:03.324 | INFO     | autoxgb.autoxgb:__post_init__:42 - Output directory: ../experiments/Pseudomonas aeruginosa_ceftazidime_species_sep_True antibiotic_sep_True/model_autoxgb_train_time_1_max_models_100/model\n",
      "2022-06-10 21:43:03.326 | INFO     | autoxgb.autoxgb:_process_data:149 - Reading training data\n",
      "2022-06-10 21:43:04.362 | INFO     | autoxgb.utils:reduce_memory_usage:50 - Mem. usage decreased to 0.95 Mb (74.9% reduction)\n",
      "2022-06-10 21:43:04.363 | INFO     | autoxgb.autoxgb:_determine_problem_type:140 - Problem type: single_column_regression\n",
      "/home/amitdanw/.conda/envs/myenv/lib/python3.7/site-packages/autoxgb/autoxgb.py:145: PerformanceWarning: DataFrame is highly fragmented.  This is usually the result of calling `frame.insert` many times, which has poor performance.  Consider joining all columns at once using pd.concat(axis=1) instead.  To get a de-fragmented frame, use `newframe = frame.copy()`\n",
      "  df[self.idx] = np.arange(len(df))\n",
      "2022-06-10 21:43:05.286 | INFO     | autoxgb.utils:reduce_memory_usage:50 - Mem. usage decreased to 0.25 Mb (74.9% reduction)\n",
      "2022-06-10 21:43:05.287 | INFO     | autoxgb.autoxgb:_create_folds:58 - Creating folds\n",
      "/home/amitdanw/.conda/envs/myenv/lib/python3.7/site-packages/autoxgb/autoxgb.py:59: PerformanceWarning: DataFrame is highly fragmented.  This is usually the result of calling `frame.insert` many times, which has poor performance.  Consider joining all columns at once using pd.concat(axis=1) instead.  To get a de-fragmented frame, use `newframe = frame.copy()`\n",
      "  train_df[\"kfold\"] = -1\n",
      "2022-06-10 21:43:05.343 | INFO     | autoxgb.autoxgb:_process_data:195 - Found 0 categorical features.\n",
      "2022-06-10 21:43:07.945 | INFO     | autoxgb.autoxgb:_process_data:236 - Model config: train_filename='../pre_proccesing/base_line/PATAKI_VAMP_PA_PATRIC/species_sep_True antibiotic_sep_True/Pseudomonas aeruginosa/ceftazidime/train.csv' test_filename='../pre_proccesing/base_line/PATAKI_VAMP_PA_PATRIC/species_sep_True antibiotic_sep_True/Pseudomonas aeruginosa/ceftazidime/test.csv' idx='run_id' targets=['measurement'] problem_type=<ProblemType.single_column_regression: 4> output='../experiments/Pseudomonas aeruginosa_ceftazidime_species_sep_True antibiotic_sep_True/model_autoxgb_train_time_1_max_models_100/model' features=['AAC(3)-VIa->seq_id', 'AAC(3)-VIa->seq_cov', \"AAC(6')-Iaa->seq_id\", \"AAC(6')-Iaa->seq_cov\", \"ANT(3'')-IIa->seq_id\", \"ANT(3'')-IIa->seq_cov\", 'Bifidobacterium_adolescentis_rpoB_conferring_resistance_to_rifampicin->seq_id', 'Bifidobacterium_adolescentis_rpoB_conferring_resistance_to_rifampicin->seq_cov', 'CRP->seq_id', 'CRP->seq_cov', 'Escherichia_coli_acrA->seq_id', 'Escherichia_coli_acrA->seq_cov', 'Escherichia_coli_ampC1_beta-lactamase->seq_id', 'Escherichia_coli_ampC1_beta-lactamase->seq_cov', 'Escherichia_coli_ampH->seq_id', 'Escherichia_coli_ampH->seq_cov', 'Escherichia_coli_mdfA->seq_id', 'Escherichia_coli_mdfA->seq_cov', 'H-NS->seq_id', 'H-NS->seq_cov', 'Klebsiella_pneumoniae_KpnE->seq_id', 'Klebsiella_pneumoniae_KpnE->seq_cov', 'Klebsiella_pneumoniae_KpnF->seq_id', 'Klebsiella_pneumoniae_KpnF->seq_cov', 'Klebsiella_pneumoniae_OmpK37->seq_id', 'Klebsiella_pneumoniae_OmpK37->seq_cov', 'Nocardia_rifampin_resistant_beta-subunit_of_RNA_polymerase_(rpoB2)->seq_id', 'Nocardia_rifampin_resistant_beta-subunit_of_RNA_polymerase_(rpoB2)->seq_cov', 'acrB->seq_id', 'acrB->seq_cov', 'acrD->seq_id', 'acrD->seq_cov', 'acrE->seq_id', 'acrE->seq_cov', 'acrF->seq_id', 'acrF->seq_cov', 'acrS->seq_id', 'acrS->seq_cov', 'arnA->seq_id', 'arnA->seq_cov', 'bacA->seq_id', 'bacA->seq_cov', 'baeR->seq_id', 'baeR->seq_cov', 'baeS->seq_id', 'baeS->seq_cov', 'cpxA->seq_id', 'cpxA->seq_cov', 'emrA->seq_id', 'emrA->seq_cov', 'emrB->seq_id', 'emrB->seq_cov', 'emrR->seq_id', 'emrR->seq_cov', 'eptA->seq_id', 'eptA->seq_cov', 'golS->seq_id', 'golS->seq_cov', 'kdpE->seq_id', 'kdpE->seq_cov', 'macB->seq_id', 'macB->seq_cov', 'marA->seq_id', 'marA->seq_cov', 'mdsA->seq_id', 'mdsA->seq_cov', 'mdsB->seq_id', 'mdsB->seq_cov', 'mdsC->seq_id', 'mdsC->seq_cov', 'mdtA->seq_id', 'mdtA->seq_cov', 'mdtB->seq_id', 'mdtB->seq_cov', 'mdtC->seq_id', 'mdtC->seq_cov', 'mdtG->seq_id', 'mdtG->seq_cov', 'mdtH->seq_id', 'mdtH->seq_cov', 'mdtK->seq_id', 'mdtK->seq_cov', 'mdtM->seq_id', 'mdtM->seq_cov', 'msbA->seq_id', 'msbA->seq_cov', 'pmrF->seq_id', 'pmrF->seq_cov', 'ramA->seq_id', 'ramA->seq_cov', 'rosA->seq_id', 'rosA->seq_cov', 'rosB->seq_id', 'rosB->seq_cov', 'sdiA->seq_id', 'sdiA->seq_cov', 'sul1->seq_id', 'sul1->seq_cov', 'tolC->seq_id', 'tolC->seq_cov', 'ugd->seq_id', 'ugd->seq_cov', 'yojI->seq_id', 'yojI->seq_cov', 'tet(A)->seq_id', 'tet(A)->seq_cov', \"AAC(6')-Iy->seq_id\", \"AAC(6')-Iy->seq_cov\", 'FosA7->seq_id', 'FosA7->seq_cov', 'aadA7->seq_id', 'aadA7->seq_cov', \"APH(3'')-Ib->seq_id\", \"APH(3'')-Ib->seq_cov\", 'APH(6)-Id->seq_id', 'APH(6)-Id->seq_cov', 'CMY-59->seq_id', 'CMY-59->seq_cov', 'floR->seq_id', 'floR->seq_cov', 'sul2->seq_id', 'sul2->seq_cov', 'mexI->seq_id', 'mexI->seq_cov', 'TEM-1->seq_id', 'TEM-1->seq_cov', 'TEM-206->seq_id', 'TEM-206->seq_cov', \"AAC(6')-Ib7->seq_id\", \"AAC(6')-Ib7->seq_cov\", 'aadA2->seq_id', 'aadA2->seq_cov', 'dfrA12->seq_id', 'dfrA12->seq_cov', 'tet(G)->seq_id', 'tet(G)->seq_cov', 'oqxA->seq_id', 'oqxA->seq_cov', 'oqxB->seq_id', 'oqxB->seq_cov', 'dfrA1->seq_id', 'dfrA1->seq_cov', 'CARB-3->seq_id', 'CARB-3->seq_cov', 'QnrS1->seq_id', 'QnrS1->seq_cov', 'AAC(3)-IId->seq_id', 'AAC(3)-IId->seq_cov', 'CTX-M-14->seq_id', 'CTX-M-14->seq_cov', 'tetM->seq_id', 'tetM->seq_cov', 'AAC(3)-Id->seq_id', 'AAC(3)-Id->seq_cov', 'tet(B)->seq_id', 'tet(B)->seq_cov', \"APH(3')-Ia->seq_id\", \"APH(3')-Ia->seq_cov\", 'QnrB5->seq_id', 'QnrB5->seq_cov', 'mefB->seq_id', 'mefB->seq_cov', 'qacH->seq_id', 'qacH->seq_cov', 'sul3->seq_id', 'sul3->seq_cov', 'tet(C)->seq_id', 'tet(C)->seq_cov', 'OXA-2->seq_id', 'OXA-2->seq_cov', 'dfrA7->seq_id', 'dfrA7->seq_cov', 'mphM->seq_id', 'mphM->seq_cov', \"ANT(2'')-Ia->seq_id\", \"ANT(2'')-Ia->seq_cov\", 'cmlA5->seq_id', 'cmlA5->seq_cov', 'FOX-5->seq_id', 'FOX-5->seq_cov', 'mphE->seq_id', 'mphE->seq_cov', 'msrE->seq_id', 'msrE->seq_cov', 'tetO->seq_id', 'tetO->seq_cov', 'aadA5->seq_id', 'aadA5->seq_cov', 'dfrA17->seq_id', 'dfrA17->seq_cov', 'mphA->seq_id', 'mphA->seq_cov', 'dfrA8->seq_id', 'dfrA8->seq_cov', 'AAC(3)-IV->seq_id', 'AAC(3)-IV->seq_cov', 'APH(4)-Ia->seq_id', 'APH(4)-Ia->seq_cov', 'HERA-3->seq_id', 'HERA-3->seq_cov', 'Tet(X4)->seq_id', 'Tet(X4)->seq_cov', 'QnrA1->seq_id', 'QnrA1->seq_cov', 'cmlA1->seq_id', 'cmlA1->seq_cov', 'dfrA14->seq_id', 'dfrA14->seq_cov', 'LAP-2->seq_id', 'LAP-2->seq_cov', 'dfrA5->seq_id', 'dfrA5->seq_cov', 'APH(6)-Ic->seq_id', 'APH(6)-Ic->seq_cov', 'catI->seq_id', 'catI->seq_cov', 'lnuG->seq_id', 'lnuG->seq_cov', 'CTX-M-1->seq_id', 'CTX-M-1->seq_cov', 'MCR-9->seq_id', 'MCR-9->seq_cov', 'aadA24->seq_id', 'aadA24->seq_cov', 'BIL-1->seq_id', 'BIL-1->seq_cov', \"AAC(2')-IIa->seq_id\", \"AAC(2')-IIa->seq_cov\", 'mdtN->seq_id', 'mdtN->seq_cov', 'mdtO->seq_id', 'mdtO->seq_cov', 'mdtP->seq_id', 'mdtP->seq_cov', \"APH(3')-IIa->seq_id\", \"APH(3')-IIa->seq_cov\", 'dfrA15->seq_id', 'dfrA15->seq_cov', 'TEM-150->seq_id', 'TEM-150->seq_cov', 'aadA13->seq_id', 'aadA13->seq_cov', 'MexA->seq_id', 'MexA->seq_cov', 'MexB->seq_id', 'MexB->seq_cov', 'OprM->seq_id', 'OprM->seq_cov', 'AAC(3)-IIb->seq_id', 'AAC(3)-IIb->seq_cov', \"AAC(6')-IIc->seq_id\", \"AAC(6')-IIc->seq_cov\", 'EreA2->seq_id', 'EreA2->seq_cov', 'SHV-134->seq_id', 'SHV-134->seq_cov', 'catII_from_Escherichia_coli_K-12->seq_id', 'catII_from_Escherichia_coli_K-12->seq_cov', 'dfrA19->seq_id', 'dfrA19->seq_cov', 'tet(D)->seq_id', 'tet(D)->seq_cov', 'dfrB3->seq_id', 'dfrB3->seq_cov', 'QnrB20->seq_id', 'QnrB20->seq_cov', 'CMY-2->seq_id', 'CMY-2->seq_cov', 'QnrB19->seq_id', 'QnrB19->seq_cov', 'armA->seq_id', 'armA->seq_cov', 'TEM-104->seq_id', 'TEM-104->seq_cov', 'dfrI->seq_id', 'dfrI->seq_cov', 'farA->seq_id', 'farA->seq_cov', 'Escherichia_coli_emrE->seq_id', 'Escherichia_coli_emrE->seq_cov', 'QnrS2->seq_id', 'QnrS2->seq_cov', 'aadA12->seq_id', 'aadA12->seq_cov', 'aadA3->seq_id', 'aadA3->seq_cov', \"AAC(6')-Ii->seq_id\", \"AAC(6')-Ii->seq_cov\", 'ANT(6)-Ia->seq_id', 'ANT(6)-Ia->seq_cov', \"APH(3')-IIIa->seq_id\", \"APH(3')-IIIa->seq_cov\", 'ErmB->seq_id', 'ErmB->seq_cov', 'SAT-4->seq_id', 'SAT-4->seq_cov', 'aad(6)->seq_id', 'aad(6)->seq_cov', 'dfrF->seq_id', 'dfrF->seq_cov', 'dfrG->seq_id', 'dfrG->seq_cov', 'efmA->seq_id', 'efmA->seq_cov', 'efrA->seq_id', 'efrA->seq_cov', 'efrB->seq_id', 'efrB->seq_cov', 'lmrD->seq_id', 'lmrD->seq_cov', 'lsaA->seq_id', 'lsaA->seq_cov', 'msrC->seq_id', 'msrC->seq_cov', 'patA->seq_id', 'patA->seq_cov', 'poxtA->seq_id', 'poxtA->seq_cov', 'tet(L)->seq_id', 'tet(L)->seq_cov', 'tetU->seq_id', 'tetU->seq_cov', 'vanA->seq_id', 'vanA->seq_cov', 'vanHA->seq_id', 'vanHA->seq_cov', 'vanRA->seq_id', 'vanRA->seq_cov', 'vanSA->seq_id', 'vanSA->seq_cov', 'vanXA->seq_id', 'vanXA->seq_cov', 'vanYA->seq_id', 'vanYA->seq_cov', 'vanZA->seq_id', 'vanZA->seq_cov', \"AAC(6')-Ie-APH(2'')-Ia->seq_id\", \"AAC(6')-Ie-APH(2'')-Ia->seq_cov\", 'vanD->seq_id', 'vanD->seq_cov', 'vanHD->seq_id', 'vanHD->seq_cov', 'vanRD->seq_id', 'vanRD->seq_cov', 'vanSD->seq_id', 'vanSD->seq_cov', 'vanXD->seq_id', 'vanXD->seq_cov', 'vanYD->seq_id', 'vanYD->seq_cov', 'catA8->seq_id', 'catA8->seq_cov', 'vanB->seq_id', 'vanB->seq_cov', 'vanHB->seq_id', 'vanHB->seq_cov', 'vanRB->seq_id', 'vanRB->seq_cov', 'vanSB->seq_id', 'vanSB->seq_cov', 'vanWB->seq_id', 'vanWB->seq_cov', 'vanXB->seq_id', 'vanXB->seq_cov', 'vanYB->seq_id', 'vanYB->seq_cov', 'Klebsiella_pneumoniae_KpnH->seq_id', 'Klebsiella_pneumoniae_KpnH->seq_cov', 'Escherichia_coli_ampC->seq_id', 'Escherichia_coli_ampC->seq_cov', 'adeJ->seq_id', 'adeJ->seq_cov', 'emrK->seq_id', 'emrK->seq_cov', 'emrY->seq_id', 'emrY->seq_cov', 'evgA->seq_id', 'evgA->seq_cov', 'evgS->seq_id', 'evgS->seq_cov', 'gadW->seq_id', 'gadW->seq_cov', 'gadX->seq_id', 'gadX->seq_cov', 'mdtE->seq_id', 'mdtE->seq_cov', 'mdtF->seq_id', 'mdtF->seq_cov', 'smeE->seq_id', 'smeE->seq_cov', 'mphB->seq_id', 'mphB->seq_cov', 'CTX-M-27->seq_id', 'CTX-M-27->seq_cov', 'CTX-M-15->seq_id', 'CTX-M-15->seq_cov', 'CTX-M-55->seq_id', 'CTX-M-55->seq_cov', 'TEM-135->seq_id', 'TEM-135->seq_cov', 'OXA-10->seq_id', 'OXA-10->seq_cov', 'arr-2->seq_id', 'arr-2->seq_cov', 'AAC(3)-IIe->seq_id', 'AAC(3)-IIe->seq_cov', 'OXA-1->seq_id', 'OXA-1->seq_cov', 'catB3->seq_id', 'catB3->seq_cov', \"AAC(6')-Ib-cr->seq_id\", \"AAC(6')-Ib-cr->seq_cov\", 'aadA22->seq_id', 'aadA22->seq_cov', 'linG->seq_id', 'linG->seq_cov', 'arr-3->seq_id', 'arr-3->seq_cov', 'cmlA6->seq_id', 'cmlA6->seq_cov', 'aadA8b->seq_id', 'aadA8b->seq_cov', 'FosA3->seq_id', 'FosA3->seq_cov', 'TEM-141->seq_id', 'TEM-141->seq_cov', 'SAT-1->seq_id', 'SAT-1->seq_cov', 'TEM-147->seq_id', 'TEM-147->seq_cov', 'TEM-10->seq_id', 'TEM-10->seq_cov', 'TEM-215->seq_id', 'TEM-215->seq_cov', 'OXA-4->seq_id', 'OXA-4->seq_cov', 'Enterobacter_cloacae_acrA->seq_id', 'Enterobacter_cloacae_acrA->seq_cov', 'MCR-3->seq_id', 'MCR-3->seq_cov', 'CTX-M-105->seq_id', 'CTX-M-105->seq_cov', 'CTX-M-65->seq_id', 'CTX-M-65->seq_cov', 'TEM-102->seq_id', 'TEM-102->seq_cov', 'TEM-112->seq_id', 'TEM-112->seq_cov', 'aadA8->seq_id', 'aadA8->seq_cov', 'CTX-M-3->seq_id', 'CTX-M-3->seq_cov', 'TEM-166->seq_id', 'TEM-166->seq_cov', 'dfrA16->seq_id', 'dfrA16->seq_cov', 'DHA-1->seq_id', 'DHA-1->seq_cov', 'QnrB4->seq_id', 'QnrB4->seq_cov', 'QepA4->seq_id', 'QepA4->seq_cov', 'QepA2->seq_id', 'QepA2->seq_cov', 'dfrB4->seq_id', 'dfrB4->seq_cov', 'aadA25->seq_id', 'aadA25->seq_cov', \"AAC(6')-Ib8->seq_id\", \"AAC(6')-Ib8->seq_cov\", 'ACT-1->seq_id', 'ACT-1->seq_cov', 'AxyY->seq_id', 'AxyY->seq_cov', 'FosA2->seq_id', 'FosA2->seq_cov', 'Klebsiella_pneumoniae_KpnG->seq_id', 'Klebsiella_pneumoniae_KpnG->seq_cov', 'TriC->seq_id', 'TriC->seq_cov', 'adeB->seq_id', 'adeB->seq_cov', 'catA4->seq_id', 'catA4->seq_cov', 'mexK->seq_id', 'mexK->seq_cov', 'mexQ->seq_id', 'mexQ->seq_cov', 'qnrE1->seq_id', 'qnrE1->seq_cov', 'smeB->seq_id', 'smeB->seq_cov', 'FosA6->seq_id', 'FosA6->seq_cov', 'Klebsiella_pneumoniae_acrA->seq_id', 'Klebsiella_pneumoniae_acrA->seq_cov', 'SHV-182->seq_id', 'SHV-182->seq_cov', 'amrB->seq_id', 'amrB->seq_cov', 'smeF->seq_id', 'smeF->seq_cov', 'tcr3->seq_id', 'tcr3->seq_cov', 'MCR-3.2->seq_id', 'MCR-3.2->seq_cov', 'MCR-4->seq_id', 'MCR-4->seq_cov', 'SHV-108->seq_id', 'SHV-108->seq_cov', 'MCR-4.2->seq_id', 'MCR-4.2->seq_cov', 'TEM-106->seq_id', 'TEM-106->seq_cov', 'CMY-39->seq_id', 'CMY-39->seq_cov', 'FosA5->seq_id', 'FosA5->seq_cov', 'CTX-M-101->seq_id', 'CTX-M-101->seq_cov', 'CTX-M-103->seq_id', 'CTX-M-103->seq_cov', 'CTX-M-144->seq_id', 'CTX-M-144->seq_cov', 'rmtB->seq_id', 'rmtB->seq_cov', 'aadA16->seq_id', 'aadA16->seq_cov', 'dfrA27->seq_id', 'dfrA27->seq_cov', 'CTX-M-62->seq_id', 'CTX-M-62->seq_cov', 'ACC-5->seq_id', 'ACC-5->seq_cov', 'MCR-3.10->seq_id', 'MCR-3.10->seq_cov', 'vatF->seq_id', 'vatF->seq_cov', 'CTX-M-24->seq_id', 'CTX-M-24->seq_cov', 'TEM-63->seq_id', 'TEM-63->seq_cov', 'CTX-M-2->seq_id', 'CTX-M-2->seq_cov', 'ACT-22->seq_id', 'ACT-22->seq_cov', 'CTX-M-66->seq_id', 'CTX-M-66->seq_cov', \"AAC(6')-Ib9->seq_id\", \"AAC(6')-Ib9->seq_cov\", 'OXA-9->seq_id', 'OXA-9->seq_cov', 'TEM-168->seq_id', 'TEM-168->seq_cov', 'SHV-1->seq_id', 'SHV-1->seq_cov', 'SHV-12->seq_id', 'SHV-12->seq_cov', 'SHV-187->seq_id', 'SHV-187->seq_cov', 'SHV-28->seq_id', 'SHV-28->seq_cov', \"AAC(6')-30/AAC(6')-Ib'_fusion_protein->seq_id\", \"AAC(6')-30/AAC(6')-Ib'_fusion_protein->seq_cov\", \"AAC(6')-Ib10->seq_id\", \"AAC(6')-Ib10->seq_cov\", 'KPC-3->seq_id', 'KPC-3->seq_cov', 'SHV-11->seq_id', 'SHV-11->seq_cov', 'SHV-119->seq_id', 'SHV-119->seq_cov', 'SHV-15->seq_id', 'SHV-15->seq_cov', \"AAC(6')-Ib-Suzhou->seq_id\", \"AAC(6')-Ib-Suzhou->seq_cov\", 'SHV-26->seq_id', 'SHV-26->seq_cov', 'SHV-110->seq_id', 'SHV-110->seq_cov', 'SHV-100->seq_id', 'SHV-100->seq_cov', 'KPC-1->seq_id', 'KPC-1->seq_cov', 'TEM-122->seq_id', 'TEM-122->seq_cov', 'TEM-101->seq_id', 'TEM-101->seq_cov', 'ACT-8->seq_id', 'ACT-8->seq_cov', 'FOX-3->seq_id', 'FOX-3->seq_cov', 'mexY->seq_id', 'mexY->seq_cov', 'plasmid-encoded_cat_(pp-cat)->seq_id', 'plasmid-encoded_cat_(pp-cat)->seq_cov', 'ACT-25->seq_id', 'ACT-25->seq_cov', 'dfrA22->seq_id', 'dfrA22->seq_cov', 'ACT-7->seq_id', 'ACT-7->seq_cov', 'MexD->seq_id', 'MexD->seq_cov', 'Pseudomonas_aeruginosa_soxR->seq_id', 'Pseudomonas_aeruginosa_soxR->seq_cov', 'ACT-28->seq_id', 'ACT-28->seq_cov', 'ACT-27->seq_id', 'ACT-27->seq_cov', 'CMY-74->seq_id', 'CMY-74->seq_cov', 'AAC(3)-Ia->seq_id', 'AAC(3)-Ia->seq_cov', \"AAC(6')-Iaf->seq_id\", \"AAC(6')-Iaf->seq_cov\", 'ADC-30->seq_id', 'ADC-30->seq_cov', 'Acinetobacter_baumannii_AbaF->seq_id', 'Acinetobacter_baumannii_AbaF->seq_cov', 'Acinetobacter_baumannii_AbaQ->seq_id', 'Acinetobacter_baumannii_AbaQ->seq_cov', 'Acinetobacter_baumannii_AmvA->seq_id', 'Acinetobacter_baumannii_AmvA->seq_cov', 'OXA-66->seq_id', 'OXA-66->seq_cov', 'TEM-12->seq_id', 'TEM-12->seq_cov', 'aadA27->seq_id', 'aadA27->seq_cov', 'abeM->seq_id', 'abeM->seq_cov', 'abeS->seq_id', 'abeS->seq_cov', 'adeA->seq_id', 'adeA->seq_cov', 'adeC->seq_id', 'adeC->seq_cov', 'adeF->seq_id', 'adeF->seq_cov', 'adeG->seq_id', 'adeG->seq_cov', 'adeH->seq_id', 'adeH->seq_cov', 'adeI->seq_id', 'adeI->seq_cov', 'adeK->seq_id', 'adeK->seq_cov', 'adeL->seq_id', 'adeL->seq_cov', 'adeN->seq_id', 'adeN->seq_cov', 'adeR->seq_id', 'adeR->seq_cov', 'adeS->seq_id', 'adeS->seq_cov', \"APH(3')-VI->seq_id\", \"APH(3')-VI->seq_cov\", 'NDM-1->seq_id', 'NDM-1->seq_cov', 'determinant_of_bleomycin_resistance->seq_id', 'determinant_of_bleomycin_resistance->seq_cov', \"AAC(3)-Ib/AAC(6')-Ib''->seq_id\", \"AAC(3)-Ib/AAC(6')-Ib''->seq_cov\", 'SHV-106->seq_id', 'SHV-106->seq_cov', 'LAP-1->seq_id', 'LAP-1->seq_cov', 'aadA6->seq_id', 'aadA6->seq_cov', 'KPC-7->seq_id', 'KPC-7->seq_cov', 'SHV-14->seq_id', 'SHV-14->seq_cov', 'SHV-189->seq_id', 'SHV-189->seq_cov', 'MIR-10->seq_id', 'MIR-10->seq_cov', 'Staphylococcus_aureus_FosB->seq_id', 'Staphylococcus_aureus_FosB->seq_cov', 'Staphylococcus_aureus_norA->seq_id', 'Staphylococcus_aureus_norA->seq_cov', 'Staphylococcys_aureus_LmrS->seq_id', 'Staphylococcys_aureus_LmrS->seq_cov', 'arlR->seq_id', 'arlR->seq_cov', 'arlS->seq_id', 'arlS->seq_cov', 'dfrC->seq_id', 'dfrC->seq_cov', 'mecA->seq_id', 'mecA->seq_cov', 'mecR1->seq_id', 'mecR1->seq_cov', 'mepA->seq_id', 'mepA->seq_cov', 'mepR->seq_id', 'mepR->seq_cov', 'mgrA->seq_id', 'mgrA->seq_cov', 'norB->seq_id', 'norB->seq_cov', 'tet(38)->seq_id', 'tet(38)->seq_cov', \"APH(3')-IIb->seq_id\", \"APH(3')-IIb->seq_cov\", 'ArmR->seq_id', 'ArmR->seq_cov', 'MexC->seq_id', 'MexC->seq_cov', 'MexE->seq_id', 'MexE->seq_cov', 'MexF->seq_id', 'MexF->seq_cov', 'MuxA->seq_id', 'MuxA->seq_cov', 'MuxB->seq_id', 'MuxB->seq_cov', 'MuxC->seq_id', 'MuxC->seq_cov', 'OXA-486->seq_id', 'OXA-486->seq_cov', 'OpmB->seq_id', 'OpmB->seq_cov', 'OpmH->seq_id', 'OpmH->seq_cov', 'OprJ->seq_id', 'OprJ->seq_cov', 'OprN->seq_id', 'OprN->seq_cov', 'PDC-3->seq_id', 'PDC-3->seq_cov', 'PmpM->seq_id', 'PmpM->seq_cov', 'Pseudomonas_aeruginosa_CpxR->seq_id', 'Pseudomonas_aeruginosa_CpxR->seq_cov', 'Pseudomonas_aeruginosa_catB7->seq_id', 'Pseudomonas_aeruginosa_catB7->seq_cov', 'Pseudomonas_aeruginosa_emrE->seq_id', 'Pseudomonas_aeruginosa_emrE->seq_cov', 'Streptomyces_rishiriensis_parY_mutant_conferring_resistance_to_aminocoumarin->seq_id', 'Streptomyces_rishiriensis_parY_mutant_conferring_resistance_to_aminocoumarin->seq_cov', 'TriA->seq_id', 'TriA->seq_cov', 'TriB->seq_id', 'TriB->seq_cov', 'basS->seq_id', 'basS->seq_cov', 'bcr-1->seq_id', 'bcr-1->seq_cov', 'farB->seq_id', 'farB->seq_cov', 'fosA->seq_id', 'fosA->seq_cov', 'lrfA->seq_id', 'lrfA->seq_cov', 'mexG->seq_id', 'mexG->seq_cov', 'mexH->seq_id', 'mexH->seq_cov', 'mexJ->seq_id', 'mexJ->seq_cov', 'mexL->seq_id', 'mexL->seq_cov', 'mexM->seq_id', 'mexM->seq_cov', 'mexN->seq_id', 'mexN->seq_cov', 'mexP->seq_id', 'mexP->seq_cov', 'mexV->seq_id', 'mexV->seq_cov', 'mexW->seq_id', 'mexW->seq_cov', 'mexX->seq_id', 'mexX->seq_cov', 'opmD->seq_id', 'opmD->seq_cov', 'opmE->seq_id', 'opmE->seq_cov', 'smeR->seq_id', 'smeR->seq_cov', 'CrpP->seq_id', 'CrpP->seq_cov', 'OXA-50->seq_id', 'OXA-50->seq_cov', 'novA->seq_id', 'novA->seq_cov', 'PDC-10->seq_id', 'PDC-10->seq_cov', 'OXA-488->seq_id', 'OXA-488->seq_cov', 'PDC-2->seq_id', 'PDC-2->seq_cov', 'qepA->seq_id', 'qepA->seq_cov', 'PDC-8->seq_id', 'PDC-8->seq_cov', \"AAC(6')-Il->seq_id\", \"AAC(6')-Il->seq_cov\", 'IMP-18->seq_id', 'IMP-18->seq_cov', 'PC1_beta-lactamase_(blaZ)->seq_id', 'PC1_beta-lactamase_(blaZ)->seq_cov', 'VEB-5->seq_id', 'VEB-5->seq_cov', \"ANT(4')-Ib->seq_id\", \"ANT(4')-Ib->seq_cov\", 'mecI->seq_id', 'mecI->seq_cov', 'ErmA->seq_id', 'ErmA->seq_cov', 'AAC(3)-IIIa->seq_id', 'AAC(3)-IIIa->seq_cov', 'ACT-35->seq_id', 'ACT-35->seq_cov', 'BUT-1->seq_id', 'BUT-1->seq_cov', 'mupA->seq_id', 'mupA->seq_cov', 'mphC->seq_id', 'mphC->seq_cov', 'msrA->seq_id', 'msrA->seq_cov', 'tet(K)->seq_id', 'tet(K)->seq_cov', \"AAC(6')-IIa->seq_id\", \"AAC(6')-IIa->seq_cov\", 'VIM-2->seq_id', 'VIM-2->seq_cov', 'AxyX->seq_id', 'AxyX->seq_cov', 'NDM-5->seq_id', 'NDM-5->seq_cov', 'PDC-7->seq_id', 'PDC-7->seq_cov', 'cmlB1->seq_id', 'cmlB1->seq_cov', 'dfrB5->seq_id', 'dfrB5->seq_cov', 'VEB-9->seq_id', 'VEB-9->seq_cov', 'dfrB2->seq_id', 'dfrB2->seq_cov', 'OXA-485->seq_id', 'OXA-485->seq_cov', 'oprA->seq_id', 'oprA->seq_cov', 'SHV-105->seq_id', 'SHV-105->seq_cov', 'IMP-1->seq_id', 'IMP-1->seq_cov', 'OXA-101->seq_id', 'OXA-101->seq_cov', 'cmlB->seq_id', 'cmlB->seq_cov', 'qacA->seq_id', 'qacA->seq_cov', 'ADC-79->seq_id', 'ADC-79->seq_cov', 'OXA-100->seq_id', 'OXA-100->seq_cov', 'catIII->seq_id', 'catIII->seq_cov', 'PDC-5->seq_id', 'PDC-5->seq_cov', 'VEB-1->seq_id', 'VEB-1->seq_cov', 'catB8->seq_id', 'catB8->seq_cov', 'dfrA10->seq_id', 'dfrA10->seq_cov', 'GES-1->seq_id', 'GES-1->seq_cov', 'aadA11->seq_id', 'aadA11->seq_cov', 'dfrB1->seq_id', 'dfrB1->seq_cov', 'rmtC->seq_id', 'rmtC->seq_cov', 'ADC-10->seq_id', 'ADC-10->seq_cov', 'OXA-113->seq_id', 'OXA-113->seq_cov', 'QnrB17->seq_id', 'QnrB17->seq_cov', 'SHV-102->seq_id', 'SHV-102->seq_cov', 'SHV-120->seq_id', 'SHV-120->seq_cov', 'ACT-16->seq_id', 'ACT-16->seq_cov', 'SHV-5->seq_id', 'SHV-5->seq_cov', 'SHV-76->seq_id', 'SHV-76->seq_cov', 'ACT-12->seq_id', 'ACT-12->seq_cov', 'NDM-7->seq_id', 'NDM-7->seq_cov', 'SHV-36->seq_id', 'SHV-36->seq_cov', 'dfrA30->seq_id', 'dfrA30->seq_cov', 'QnrB58->seq_id', 'QnrB58->seq_cov', 'catB11->seq_id', 'catB11->seq_cov', 'Agrobacterium_fabrum_chloramphenicol_acetyltransferase->seq_id', 'Agrobacterium_fabrum_chloramphenicol_acetyltransferase->seq_cov', 'rmtF->seq_id', 'rmtF->seq_cov', 'SHV-30->seq_id', 'SHV-30->seq_cov', \"AAC(6')-33->seq_id\", \"AAC(6')-33->seq_cov\", 'SHV-107->seq_id', 'SHV-107->seq_cov', 'SHV-45->seq_id', 'SHV-45->seq_cov', 'CTX-M-115->seq_id', 'CTX-M-115->seq_cov', 'rmtG->seq_id', 'rmtG->seq_cov', 'KPC-4->seq_id', 'KPC-4->seq_cov', 'OXA-232->seq_id', 'OXA-232->seq_cov', 'ACT-15->seq_id', 'ACT-15->seq_cov', 'AAC(3)-Ib->seq_id', 'AAC(3)-Ib->seq_cov', 'ACT-24->seq_id', 'ACT-24->seq_cov', \"AAC(6')-29a->seq_id\", \"AAC(6')-29a->seq_cov\", \"AAC(6')-29b->seq_id\", \"AAC(6')-29b->seq_cov\", 'MCR-7.1->seq_id', 'MCR-7.1->seq_cov', \"ANT(4')-IIb->seq_id\", \"ANT(4')-IIb->seq_cov\", 'rmtD2->seq_id', 'rmtD2->seq_cov', 'SHV-122->seq_id', 'SHV-122->seq_cov', 'OXA-23->seq_id', 'OXA-23->seq_cov', 'OXA-115->seq_id', 'OXA-115->seq_cov', \"APH(3')-VIa->seq_id\", \"APH(3')-VIa->seq_cov\", 'ADC-11->seq_id', 'ADC-11->seq_cov', 'OXA-69->seq_id', 'OXA-69->seq_cov', 'ADC-6->seq_id', 'ADC-6->seq_cov', 'OXA-139->seq_id', 'OXA-139->seq_cov', 'OXA-24->seq_id', 'OXA-24->seq_cov', 'OXA-65->seq_id', 'OXA-65->seq_cov', 'ADC-56->seq_id', 'ADC-56->seq_cov', 'ADC-25->seq_id', 'ADC-25->seq_cov', \"ANT(3'')-IIb->seq_id\", \"ANT(3'')-IIb->seq_cov\", \"ANT(3'')-IIc->seq_id\", \"ANT(3'')-IIc->seq_cov\", 'OXA-71->seq_id', 'OXA-71->seq_cov', 'OXA-72->seq_id', 'OXA-72->seq_cov', 'OXA-203->seq_id', 'OXA-203->seq_cov', 'PER-7->seq_id', 'PER-7->seq_cov', 'OXA-237->seq_id', 'OXA-237->seq_cov', 'PDC-1->seq_id', 'PDC-1->seq_cov', 'PDC-9->seq_id', 'PDC-9->seq_cov', 'RlmA(II)->seq_id', 'RlmA(II)->seq_cov', 'patB->seq_id', 'patB->seq_cov', 'pmrA->seq_id', 'pmrA->seq_cov', 'mel->seq_id', 'mel->seq_cov', 'Lactobacillus_reuteri_cat-TC->seq_id', 'Lactobacillus_reuteri_cat-TC->seq_cov', 'dfrA26->seq_id', 'dfrA26->seq_cov', 'aadA17->seq_id', 'aadA17->seq_cov', 'SHV-155->seq_id', 'SHV-155->seq_cov', 'TEM-105->seq_id', 'TEM-105->seq_cov', 'dfrA25->seq_id', 'dfrA25->seq_cov', 'CMY-108->seq_id', 'CMY-108->seq_cov', 'EreB->seq_id', 'EreB->seq_cov', 'MIR-11->seq_id', 'MIR-11->seq_cov', 'CMY-104->seq_id', 'CMY-104->seq_cov', 'ACT-4->seq_id', 'ACT-4->seq_cov', 'CMH-1->seq_id', 'CMH-1->seq_cov', 'ACT-17->seq_id', 'ACT-17->seq_cov', 'SHV-103->seq_id', 'SHV-103->seq_cov', 'CTX-M-10->seq_id', 'CTX-M-10->seq_cov', 'LEN-9->seq_id', 'LEN-9->seq_cov', 'OKP-B-6->seq_id', 'OKP-B-6->seq_cov', 'smeD->seq_id', 'smeD->seq_cov', 'ACT-30->seq_id', 'ACT-30->seq_cov', 'TEM-185->seq_id', 'TEM-185->seq_cov', 'OKP-B-5->seq_id', 'OKP-B-5->seq_cov', 'SHV-141->seq_id', 'SHV-141->seq_cov', 'SHV-27->seq_id', 'SHV-27->seq_cov', 'LEN-17->seq_id', 'LEN-17->seq_cov', 'OprZ->seq_id', 'OprZ->seq_cov', 'SHV-52->seq_id', 'SHV-52->seq_cov', 'ACT-37->seq_id', 'ACT-37->seq_cov', 'SHV-111->seq_id', 'SHV-111->seq_cov', 'cmlA4->seq_id', 'cmlA4->seq_cov', 'CMY-100->seq_id', 'CMY-100->seq_cov', 'DHA-6->seq_id', 'DHA-6->seq_cov', 'ACT-23->seq_id', 'ACT-23->seq_cov', 'CTX-M-9->seq_id', 'CTX-M-9->seq_cov', 'VIM-1->seq_id', 'VIM-1->seq_cov', 'tet(39)->seq_id', 'tet(39)->seq_cov', 'OXA-64->seq_id', 'OXA-64->seq_cov', 'OXA-260->seq_id', 'OXA-260->seq_cov', 'ADC-58->seq_id', 'ADC-58->seq_cov', 'OXA-121->seq_id', 'OXA-121->seq_cov', \"AAC(6')-Ian->seq_id\", \"AAC(6')-Ian->seq_cov\", 'KPC-6->seq_id', 'KPC-6->seq_cov', 'OXA-160->seq_id', 'OXA-160->seq_cov', 'ADC-75->seq_id', 'ADC-75->seq_cov', 'OXA-126->seq_id', 'OXA-126->seq_cov', 'OXA-91->seq_id', 'OXA-91->seq_cov', 'ADC-2->seq_id', 'ADC-2->seq_cov', 'OXA-94->seq_id', 'OXA-94->seq_cov', 'ADC-41->seq_id', 'ADC-41->seq_cov', 'ADC-76->seq_id', 'ADC-76->seq_cov', 'OXA-68->seq_id', 'OXA-68->seq_cov', 'OXA-90->seq_id', 'OXA-90->seq_cov', 'OXA-312->seq_id', 'OXA-312->seq_cov', 'OXA-67->seq_id', 'OXA-67->seq_cov', 'ADC-3->seq_id', 'ADC-3->seq_cov', 'OXA-208->seq_id', 'OXA-208->seq_cov', 'OXA-259->seq_id', 'OXA-259->seq_cov', 'ADC-68->seq_id', 'ADC-68->seq_cov', 'OXA-413->seq_id', 'OXA-413->seq_cov', 'PER-1->seq_id', 'PER-1->seq_cov', 'CARB-16->seq_id', 'CARB-16->seq_cov', 'OXA-98->seq_id', 'OXA-98->seq_cov', 'OXA-317->seq_id', 'OXA-317->seq_cov', 'OXA-407->seq_id', 'OXA-407->seq_cov', 'OXA-314->seq_id', 'OXA-314->seq_cov', 'OXA-242->seq_id', 'OXA-242->seq_cov', 'OXA-206->seq_id', 'OXA-206->seq_cov', 'OXA-51->seq_id', 'OXA-51->seq_cov', 'ADC-19->seq_id', 'ADC-19->seq_cov', 'OXA-106->seq_id', 'OXA-106->seq_cov', 'CARB-10->seq_id', 'CARB-10->seq_cov', 'CARB-14->seq_id', 'CARB-14->seq_cov', 'ADC-77->seq_id', 'ADC-77->seq_cov', 'cmeB->seq_id', 'cmeB->seq_cov', 'OXA-48->seq_id', 'OXA-48->seq_cov', 'SHV-143->seq_id', 'SHV-143->seq_cov', 'OXA-163->seq_id', 'OXA-163->seq_cov', 'QnrB10->seq_id', 'QnrB10->seq_cov', 'dfrA18->seq_id', 'dfrA18->seq_cov', 'OXA-181->seq_id', 'OXA-181->seq_cov', \"AAC(6')-Ib->seq_id\", \"AAC(6')-Ib->seq_cov\", 'SHV-85->seq_id', 'SHV-85->seq_cov', 'OXA-103->seq_id', 'OXA-103->seq_cov', 'GES-11->seq_id', 'GES-11->seq_cov', 'ADC-74->seq_id', 'ADC-74->seq_cov', 'OXA-164->seq_id', 'OXA-164->seq_cov', 'Acinetobacter_baumannii_AmpC_beta-lactamase->seq_id', 'Acinetobacter_baumannii_AmpC_beta-lactamase->seq_cov', 'OXA-402->seq_id', 'OXA-402->seq_cov', 'ADC-16->seq_id', 'ADC-16->seq_cov', 'OXA-270->seq_id', 'OXA-270->seq_cov', 'SHV-77->seq_id', 'SHV-77->seq_cov', 'OXA-120->seq_id', 'OXA-120->seq_cov', 'ADC-5->seq_id', 'ADC-5->seq_cov', 'OXA-217->seq_id', 'OXA-217->seq_cov', 'OXA-431->seq_id', 'OXA-431->seq_cov', 'OXA-430->seq_id', 'OXA-430->seq_cov', 'OXA-316->seq_id', 'OXA-316->seq_cov', 'OXA-313->seq_id', 'OXA-313->seq_cov', 'OXA-58->seq_id', 'OXA-58->seq_cov', 'OXA-340->seq_id', 'OXA-340->seq_cov', 'VIM-27->seq_id', 'VIM-27->seq_cov', 'ADC-1->seq_id', 'ADC-1->seq_cov', 'TEM-158->seq_id', 'TEM-158->seq_cov', 'OKP-B-9->seq_id', 'OKP-B-9->seq_cov', 'ADC-73->seq_id', 'ADC-73->seq_cov', 'OXA-132->seq_id', 'OXA-132->seq_cov', 'OKP-B-7->seq_id', 'OKP-B-7->seq_cov', 'dfrA21->seq_id', 'dfrA21->seq_cov', 'CMY-111->seq_id', 'CMY-111->seq_cov', 'mefE->seq_id', 'mefE->seq_cov', 'OXA-161->seq_id', 'OXA-161->seq_cov', 'aphA15->seq_id', 'aphA15->seq_cov', 'GES-14->seq_id', 'GES-14->seq_cov', 'facT->seq_id', 'facT->seq_cov', 'SAT-3->seq_id', 'SAT-3->seq_cov', 'AAC(3)-Ic->seq_id', 'AAC(3)-Ic->seq_cov', 'catB10->seq_id', 'catB10->seq_cov', \"ANT(3'')-Ii-AAC(6')-IId_fusion_protein->seq_id\", \"ANT(3'')-Ii-AAC(6')-IId_fusion_protein->seq_cov\", 'IMP-31->seq_id', 'IMP-31->seq_cov', 'OXA-35->seq_id', 'OXA-35->seq_cov', 'cmx->seq_id', 'cmx->seq_cov', 'QnrVC1->seq_id', 'QnrVC1->seq_cov', 'OXA-129->seq_id', 'OXA-129->seq_cov', \"AAC(6')-31->seq_id\", \"AAC(6')-31->seq_cov\", 'IMP-7->seq_id', 'IMP-7->seq_cov', 'LCR-1->seq_id', 'LCR-1->seq_cov', 'VIM-14->seq_id', 'VIM-14->seq_cov', 'VIM-13->seq_id', 'VIM-13->seq_cov', 'GES-9->seq_id', 'GES-9->seq_cov', 'OXA-74->seq_id', 'OXA-74->seq_cov', 'OXA-141->seq_id', 'OXA-141->seq_cov', 'VIM-4->seq_id', 'VIM-4->seq_cov', 'OXA-392->seq_id', 'OXA-392->seq_cov', \"AAC(2')-Ic->seq_id\", \"AAC(2')-Ic->seq_cov\", 'Bifidobacteria_intrinsic_ileS_conferring_resistance_to_mupirocin->seq_id', 'Bifidobacteria_intrinsic_ileS_conferring_resistance_to_mupirocin->seq_cov', 'Erm(37)->seq_id', 'Erm(37)->seq_cov', 'Erm(38)->seq_id', 'Erm(38)->seq_cov', 'RbpA->seq_id', 'RbpA->seq_cov', 'efpA->seq_id', 'efpA->seq_cov', 'mfpA->seq_id', 'mfpA->seq_cov', 'mtrA->seq_id', 'mtrA->seq_cov', 'otr(A)->seq_id', 'otr(A)->seq_cov', 'tap->seq_id', 'tap->seq_cov', 'SHV-94->seq_id', 'SHV-94->seq_cov', 'SHV-33->seq_id', 'SHV-33->seq_cov', 'SHV-172->seq_id', 'SHV-172->seq_cov', 'CTX-M-114->seq_id', 'CTX-M-114->seq_cov', 'CTX-M-116->seq_id', 'CTX-M-116->seq_cov', 'TEM-91->seq_id', 'TEM-91->seq_cov', 'MCR-3.4->seq_id', 'MCR-3.4->seq_cov', 'SHV-2->seq_id', 'SHV-2->seq_cov', 'CTX-M-40->seq_id', 'CTX-M-40->seq_cov', 'MCR-1->seq_id', 'MCR-1->seq_cov', 'TEM-52->seq_id', 'TEM-52->seq_cov', 'CTX-M-32->seq_id', 'CTX-M-32->seq_cov', 'TEM-111->seq_id', 'TEM-111->seq_cov', 'ErmC->seq_id', 'ErmC->seq_cov', 'TEM-11->seq_id', 'TEM-11->seq_cov', 'TEM-154->seq_id', 'TEM-154->seq_cov', 'TEM-123->seq_id', 'TEM-123->seq_cov', 'TEM-30->seq_id', 'TEM-30->seq_cov', 'TEM-176->seq_id', 'TEM-176->seq_cov', 'MCR-5->seq_id', 'MCR-5->seq_cov', 'TEM-125->seq_id', 'TEM-125->seq_cov', 'TEM-73->seq_id', 'TEM-73->seq_cov', 'lsaB->seq_id', 'lsaB->seq_cov', 'lsaE->seq_id', 'lsaE->seq_cov', 'MIR-9->seq_id', 'MIR-9->seq_cov', 'SHV-25->seq_id', 'SHV-25->seq_cov', 'SHV-42->seq_id', 'SHV-42->seq_cov', 'CTX-M-16->seq_id', 'CTX-M-16->seq_cov', 'aadA4->seq_id', 'aadA4->seq_cov', 'TEM-33->seq_id', 'TEM-33->seq_cov', 'dfrA3->seq_id', 'dfrA3->seq_cov', 'IMP-13->seq_id', 'IMP-13->seq_cov', 'SHV-41->seq_id', 'SHV-41->seq_cov', 'SHV-32->seq_id', 'SHV-32->seq_cov', 'MIR-16->seq_id', 'MIR-16->seq_cov', 'MIR-6->seq_id', 'MIR-6->seq_cov', 'ACT-3->seq_id', 'ACT-3->seq_cov', 'ACT-6->seq_id', 'ACT-6->seq_cov', 'ACT-29->seq_id', 'ACT-29->seq_cov', \"AAC(6')-Ib11->seq_id\", \"AAC(6')-Ib11->seq_cov\", 'CTX-M-12->seq_id', 'CTX-M-12->seq_cov', 'MIR-3->seq_id', 'MIR-3->seq_cov', 'KPC-10->seq_id', 'KPC-10->seq_cov', 'MIR-5->seq_id', 'MIR-5->seq_cov', 'ACT-9->seq_id', 'ACT-9->seq_cov', 'IMI-1->seq_id', 'IMI-1->seq_cov', 'NmcR->seq_id', 'NmcR->seq_cov', 'TEM-108->seq_id', 'TEM-108->seq_cov', 'Salmonella_enterica_cmlA->seq_id', 'Salmonella_enterica_cmlA->seq_cov', 'CTX-M-63->seq_id', 'CTX-M-63->seq_cov', 'QnrA7->seq_id', 'QnrA7->seq_cov', 'SHV-75->seq_id', 'SHV-75->seq_cov', 'SHV-60->seq_id', 'SHV-60->seq_cov', 'SHV-62->seq_id', 'SHV-62->seq_cov', 'SHV-101->seq_id', 'SHV-101->seq_cov', 'SHV-63->seq_id', 'SHV-63->seq_cov', 'SHV-142->seq_id', 'SHV-142->seq_cov', 'SHV-178->seq_id', 'SHV-178->seq_cov', 'SHV-137->seq_id', 'SHV-137->seq_cov', 'SHV-165->seq_id', 'SHV-165->seq_cov', 'SHV-97->seq_id', 'SHV-97->seq_cov', 'dfrE->seq_id', 'dfrE->seq_cov', 'vanRG->seq_id', 'vanRG->seq_cov', 'VgbA->seq_id', 'VgbA->seq_cov', 'tetS->seq_id', 'tetS->seq_cov', 'lnuD->seq_id', 'lnuD->seq_cov', 'vatB->seq_id', 'vatB->seq_cov', 'vatE->seq_id', 'vatE->seq_cov', \"APH(2'')-IVa->seq_id\", \"APH(2'')-IVa->seq_cov\", 'vatD->seq_id', 'vatD->seq_cov', 'VgbB->seq_id', 'VgbB->seq_cov', 'ANT(6)-Ib->seq_id', 'ANT(6)-Ib->seq_cov', 'vgaA->seq_id', 'vgaA->seq_cov', 'OXA-78->seq_id', 'OXA-78->seq_cov', 'ADC-7->seq_id', 'ADC-7->seq_cov', 'OXA-109->seq_id', 'OXA-109->seq_cov', 'OXA-263->seq_id', 'OXA-263->seq_cov', 'OXA-128->seq_id', 'OXA-128->seq_cov', 'OXA-261->seq_id', 'OXA-261->seq_cov', 'OXA-262->seq_id', 'OXA-262->seq_cov', 'MIR-23->seq_id', 'MIR-23->seq_cov', 'ACT-14->seq_id', 'ACT-14->seq_cov', 'PDC-73->seq_id', 'PDC-73->seq_cov', 'MIR-17->seq_id', 'MIR-17->seq_cov', 'ACT-38->seq_id', 'ACT-38->seq_cov', 'OXA-663->seq_id', 'OXA-663->seq_cov', 'SHV-80->seq_id', 'SHV-80->seq_cov', 'dfrA23->seq_id', 'dfrA23->seq_cov', 'VIM-19->seq_id', 'VIM-19->seq_cov'] num_folds=5 use_gpu=True seed=42 categorical_features=[] num_trials=100 time_limit=1 fast=True\n",
      "2022-06-10 21:43:07.946 | INFO     | autoxgb.autoxgb:_process_data:237 - Saving model config\n",
      "2022-06-10 21:43:07.957 | INFO     | autoxgb.autoxgb:_process_data:241 - Saving encoders\n",
      "\u001b[32m[I 2022-06-10 21:43:08,237]\u001b[0m A new study created in RDB with name: autoxgb\u001b[0m\n",
      "2022-06-10 21:43:30.286 | INFO     | autoxgb.utils:optimize:192 - Metrics: {'r2': 0.16427204579939525, 'mse': 8.566085815429688, 'mae': 1.674584984779358, 'rmse': 2.9267876148223877}\n",
      "\u001b[32m[I 2022-06-10 21:43:30,423]\u001b[0m Trial 0 finished with value: 2.9267876148223877 and parameters: {'learning_rate': 0.021005806205259867, 'reg_lambda': 67.60113454069906, 'reg_alpha': 0.00021627979614889488, 'subsample': 0.13968112338446204, 'colsample_bytree': 0.28999386381252457, 'max_depth': 6, 'early_stopping_rounds': 158, 'n_estimators': 7000}. Best is trial 0 with value: 2.9267876148223877.\u001b[0m\n",
      "2022-06-10 21:43:30.460 | INFO     | autoxgb.autoxgb:train:248 - Training complete\n",
      "2022-06-10 21:43:30.460 | INFO     | autoxgb.autoxgb:predict:252 - Creating OOF and test predictions\n",
      "2022-06-10 21:43:30.462 | INFO     | autoxgb.utils:predict_model:238 - Training and predicting for fold 0\n"
     ]
    }
   ],
   "source": [
    "ds_param = None\n",
    "anti_list = list(np.arange(20))\n",
    "species_list = ['Pseudomonas aeruginosa']+list(np.arange(5))\n",
    "exp.run_exp(data, model_param, ds_param, antibiotic=anti_list, species=species_list)"
   ]
  },
  {
   "cell_type": "code",
   "execution_count": null,
   "id": "c075144e-13a1-499e-8e43-2aac84ba00a5",
   "metadata": {},
   "outputs": [],
   "source": []
  }
 ],
 "metadata": {
  "kernelspec": {
   "display_name": "myenv",
   "language": "python",
   "name": "myenv"
  },
  "language_info": {
   "codemirror_mode": {
    "name": "ipython",
    "version": 3
   },
   "file_extension": ".py",
   "mimetype": "text/x-python",
   "name": "python",
   "nbconvert_exporter": "python",
   "pygments_lexer": "ipython3",
   "version": "3.7.12"
  }
 },
 "nbformat": 4,
 "nbformat_minor": 5
}
